{
 "cells": [
  {
   "cell_type": "code",
   "execution_count": 233,
   "metadata": {},
   "outputs": [],
   "source": [
    "import os\n",
    "import json\n",
    "import fnmatch\n",
    "import pandas as pd\n",
    "import numpy as np\n",
    "import json"
   ]
  },
  {
   "cell_type": "markdown",
   "metadata": {},
   "source": [
    "genpath=os.path.join(\"Output\", \"General\")\n",
    "catpath=os.path.join(\"Output\", \"Category\")\n",
    "jsongen=os.path.join(\"json_files\", \"General_request\")\n",
    "jsoncat=os.path.join(\"json_files\", \"Category_request\")"
   ]
  },
  {
   "cell_type": "code",
   "execution_count": 234,
   "metadata": {},
   "outputs": [],
   "source": [
    "def JSONpath(folder, liga):\n",
    "    folderlist=os.listdir(folder)\n",
    "    for f in folderlist:\n",
    "        if fnmatch.fnmatch(f, f'*{liga}*'):\n",
    "            filepath=os.path.join(folder,f)\n",
    "            \n",
    "    return filepath"
   ]
  },
  {
   "cell_type": "code",
   "execution_count": 235,
   "metadata": {},
   "outputs": [],
   "source": [
    "def League(liga):\n",
    "    filename=f'{liga}.csv'\n",
    "    filepath=os.path.join(\"stadiums_data\",filename)\n",
    "    df=pd.read_csv(filepath, encoding='utf-8', dtype={\"Team\": \"string\", \"City\": \"string\", \"State\": \"string\", \"Stadium Name\": \"string\", \n",
    "                                    \"Latitude\": np.float64, \"Longitude\": np.float64})\n",
    "    return df[\"Team\"]"
   ]
  },
  {
   "cell_type": "code",
   "execution_count": 236,
   "metadata": {},
   "outputs": [],
   "source": [
    "def teamfilelist(equipo, path):    \n",
    "    jsonlista = os.listdir(path)\n",
    "    teamlista=[]\n",
    "    for j in jsonlista:\n",
    "        if fnmatch.fnmatch(j, f'*{equipo}*.json'):\n",
    "            teamlista.append(j)           \n",
    "    return teamlista"
   ]
  },
  {
   "cell_type": "code",
   "execution_count": 237,
   "metadata": {},
   "outputs": [],
   "source": [
    "def JSONtoDF(category=False):\n",
    "    if category:\n",
    "        inputpath=os.path.join(\"json_files\", \"Category_request\")\n",
    "        outputpath=os.path.join(\"Output\", \"Category\")\n",
    "    else:\n",
    "        inputpath=os.path.join(\"json_files\", \"General_request\")\n",
    "        outputpath=os.path.join(\"Output\", \"General\")\n",
    "        \n",
    "    liga=input(\"Input value:\\nNFL, NBA, MLB, MLS, NHL: \")\n",
    "    inputjson=JSONpath(inputpath, liga)\n",
    "    outputjson=JSONpath(outputpath, liga)\n",
    "    equipos=League(liga)\n",
    "    for equipo in equipos:\n",
    "        # Note to myself, equipofiles needs to be naturally sorted\n",
    "        equipofiles=teamfilelist(equipo, inputjson)\n",
    "        jsonDF=pd.DataFrame()\n",
    "        for file in equipofiles:\n",
    "            fpath=os.path.join(inputjson, file)\n",
    "            with open(fpath, encoding=\"utf8\") as f:\n",
    "                jsondata=json.load(f)\n",
    "            df=pd.DataFrame(jsondata[\"businesses\"])\n",
    "            jsonDF=pd.concat([jsonDF, df], axis=0)\n",
    "        jsonDF.reset_index(inplace=True, drop=True)\n",
    "        fname=f'{equipo}_restaurants.json'\n",
    "        jsonout=os.path.join(outputjson, fname)\n",
    "        jsonDF.to_json(jsonout, orient=\"records\")   "
   ]
  },
  {
   "cell_type": "code",
   "execution_count": 238,
   "metadata": {},
   "outputs": [
    {
     "name": "stdout",
     "output_type": "stream",
     "text": [
      "Input value:\n",
      "NFL, NBA, MLB, MLS, NHL: NHL\n"
     ]
    }
   ],
   "source": [
    "JSONtoDF()"
   ]
  },
  {
   "cell_type": "code",
   "execution_count": null,
   "metadata": {},
   "outputs": [],
   "source": []
  }
 ],
 "metadata": {
  "kernelspec": {
   "display_name": "Python 3",
   "language": "python",
   "name": "python3"
  },
  "language_info": {
   "codemirror_mode": {
    "name": "ipython",
    "version": 3
   },
   "file_extension": ".py",
   "mimetype": "text/x-python",
   "name": "python",
   "nbconvert_exporter": "python",
   "pygments_lexer": "ipython3",
   "version": "3.6.10"
  }
 },
 "nbformat": 4,
 "nbformat_minor": 4
}
