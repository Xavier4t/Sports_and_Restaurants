{
 "cells": [
  {
   "cell_type": "code",
   "execution_count": null,
   "metadata": {},
   "outputs": [],
   "source": [
    "import os\n",
    "import json\n",
    "import fnmatch\n",
    "import pandas as pd\n",
    "import numpy as np\n",
    "import json\n",
    "import re\n",
    "from pprint import pprint"
   ]
  },
  {
   "cell_type": "code",
   "execution_count": 2,
   "metadata": {},
   "outputs": [],
   "source": [
    "def JSONpath(folder, liga):\n",
    "    folderlist=os.listdir(folder)\n",
    "    for f in folderlist:\n",
    "        if fnmatch.fnmatch(f, f'*{liga}*'):\n",
    "            filepath=os.path.join(folder,f)\n",
    "            \n",
    "    return filepath"
   ]
  },
  {
   "cell_type": "code",
   "execution_count": 109,
   "metadata": {},
   "outputs": [],
   "source": [
    "def League(liga):\n",
    "    filename=f'{liga}.csv'\n",
    "    filepath=os.path.join(\"stadiums_data\",filename)\n",
    "    df=pd.read_csv(filepath, encoding='utf-8', dtype={\"Team\": \"string\", \"City\": \"string\", \"State\": \"string\", \"Stadium Name\": \"string\", \n",
    "                                    \"Latitude\": np.float64, \"Longitude\": np.float64})\n",
    "    return df[\"Team\"], df[\"City\"], df[\"State\"], df[\"Stadium Name\"]"
   ]
  },
  {
   "cell_type": "code",
   "execution_count": 4,
   "metadata": {},
   "outputs": [],
   "source": [
    "def teamfilelist(equipo, path):    \n",
    "    jsonlista = os.listdir(path)\n",
    "    teamlista=[]\n",
    "    for j in jsonlista:\n",
    "        if fnmatch.fnmatch(j, f'*{equipo}*.json'):\n",
    "            teamlista.append(j)           \n",
    "    return teamlista"
   ]
  },
  {
   "cell_type": "code",
   "execution_count": 5,
   "metadata": {},
   "outputs": [],
   "source": [
    "def natural_sort(s):\n",
    "    _nsre = re.compile('([0-9]+)')\n",
    "    return [int(text) if text.isdigit() else text.lower()\n",
    "            for text in re.split(_nsre, s)] "
   ]
  },
  {
   "cell_type": "code",
   "execution_count": 32,
   "metadata": {},
   "outputs": [],
   "source": [
    "def JSONtoDF(category=False):\n",
    "    if category:\n",
    "        inputpath=os.path.join(\"json_files\", \"Category_request\")\n",
    "        outputpath=os.path.join(\"Output\", \"Category\")\n",
    "    else:\n",
    "        inputpath=os.path.join(\"json_files\", \"General_request\")\n",
    "        outputpath=os.path.join(\"Output\", \"General\")\n",
    "        \n",
    "    liga=input(\"Input value:\\nNFL, NBA, MLB, MLS, NHL: \")\n",
    "    inputjson=JSONpath(inputpath, liga)\n",
    "    outputjson=JSONpath(outputpath, liga)\n",
    "    equipos=League(liga)\n",
    "    for equipo in equipos:\n",
    "        equipofiles=teamfilelist(equipo, inputjson)\n",
    "        equipofiles.sort(key=natural_sort)\n",
    "        jsonDF=pd.DataFrame()\n",
    "        for file in equipofiles:\n",
    "            fpath=os.path.join(inputjson, file)\n",
    "            with open(fpath, encoding=\"utf-8\") as f:\n",
    "                jsondata=json.load(f)\n",
    "            df=pd.DataFrame(jsondata[\"businesses\"])\n",
    "            jsonDF=pd.concat([jsonDF, df], axis=0)\n",
    "        jsonDF.reset_index(inplace=True, drop=True)\n",
    "        fname=f'{equipo}_restaurants.json'\n",
    "        jsonout=os.path.join(outputjson, fname)\n",
    "        jsonDF.to_json(jsonout, orient=\"index\")\n",
    "    "
   ]
  },
  {
   "cell_type": "code",
   "execution_count": 33,
   "metadata": {},
   "outputs": [
    {
     "name": "stdout",
     "output_type": "stream",
     "text": [
      "Input value:\n",
      "NFL, NBA, MLB, MLS, NHL: NHL\n"
     ]
    }
   ],
   "source": [
    "JSONtoDF()"
   ]
  },
  {
   "cell_type": "code",
   "execution_count": 87,
   "metadata": {},
   "outputs": [],
   "source": [
    "def saveJSON(dictio, equipo, outfolder):\n",
    "    _n=equipo.split()\n",
    "    if len(_n)==3:\n",
    "        f_name=f'{_n[0]}_{_n[1]}_{_n[2]}_restaurants.json'\n",
    "    else:\n",
    "        f_name=f'{_n[0]}_{_n[1]}_restaurants.json'\n",
    "    jsonout=os.path.join(outfolder, f_name)\n",
    "    with open(jsonout, \"w\", encoding=\"utf-8\") as f:\n",
    "        json.dump(dictio, f, ensure_ascii=False)\n",
    "    f.close()"
   ]
  },
  {
   "cell_type": "code",
   "execution_count": 110,
   "metadata": {},
   "outputs": [],
   "source": [
    "def MergeJSON(category=False):\n",
    "    if category:\n",
    "        inputpath=os.path.join(\"json_files\", \"Category_request\")\n",
    "        outputpath=os.path.join(\"Output\", \"Category\")\n",
    "    else:\n",
    "        inputpath=os.path.join(\"json_files\", \"General_request\")\n",
    "        outputpath=os.path.join(\"Output\", \"General\")\n",
    "        \n",
    "    liga=input(\"Input value:\\nNFL, NBA, MLB, MLS, NHL: \")\n",
    "    inputjson=JSONpath(inputpath, liga)\n",
    "    outputjson=JSONpath(outputpath, liga)\n",
    "    equipos, cities, states, stadiums=League(liga)\n",
    "    \n",
    "    for equipo, city, state, stadium in zip(equipos, cities, states, stadiums):\n",
    "        equipofiles=teamfilelist(equipo, inputjson)\n",
    "        equipofiles.sort(key=natural_sort)\n",
    "        team_dict={}\n",
    "        file0=os.path.join(inputjson, equipofiles[0])\n",
    "        allbusiness=[]\n",
    "        with open(file0, encoding=\"utf-8\") as f:\n",
    "            file0data=json.load(f)\n",
    "            total=file0data[\"total\"]\n",
    "        for file in equipofiles:\n",
    "            fpath=os.path.join(inputjson, file)\n",
    "            with open(fpath, encoding=\"utf8\") as f:\n",
    "                jsondata=json.load(f)\n",
    "                businessdata=jsondata['businesses']\n",
    "            allbusiness.extend(businessdata)\n",
    "        team_dict['league']=liga\n",
    "        team_dict['team']=equipo\n",
    "        team_dict['stadium']=stadium\n",
    "        team_dict['city']=city\n",
    "        team_dict['state']=state\n",
    "        team_dict['businesses']=allbusiness\n",
    "        team_dict['absolute total']=total\n",
    "        if total>=1000:\n",
    "            team_dict['total']=1000\n",
    "        else:\n",
    "            team_dict['total']=total\n",
    "        saveJSON(team_dict, equipo, outputjson)"
   ]
  },
  {
   "cell_type": "code",
   "execution_count": 111,
   "metadata": {},
   "outputs": [
    {
     "name": "stdout",
     "output_type": "stream",
     "text": [
      "Input value:\n",
      "NFL, NBA, MLB, MLS, NHL: NHL\n"
     ]
    }
   ],
   "source": [
    "MergeJSON()"
   ]
  },
  {
   "cell_type": "code",
   "execution_count": null,
   "metadata": {},
   "outputs": [],
   "source": []
  }
 ],
 "metadata": {
  "kernelspec": {
   "display_name": "Python 3",
   "language": "python",
   "name": "python3"
  },
  "language_info": {
   "codemirror_mode": {
    "name": "ipython",
    "version": 3
   },
   "file_extension": ".py",
   "mimetype": "text/x-python",
   "name": "python",
   "nbconvert_exporter": "python",
   "pygments_lexer": "ipython3",
   "version": "3.6.10"
  }
 },
 "nbformat": 4,
 "nbformat_minor": 4
}
