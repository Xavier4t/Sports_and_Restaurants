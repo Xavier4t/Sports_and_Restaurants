{
 "cells": [
  {
   "cell_type": "code",
   "execution_count": 1,
   "metadata": {},
   "outputs": [],
   "source": [
    "from datetime import datetime\n",
    "import pandas as pd\n",
    "import numpy as np\n",
    "import os\n",
    "import json\n",
    "import fnmatch"
   ]
  },
  {
   "cell_type": "code",
   "execution_count": 2,
   "metadata": {},
   "outputs": [],
   "source": [
    "# Files path \n",
    "general=os.path.join(\"Output\",\"General\")\n",
    "category=os.path.join(\"Output\", \"Category\")\n",
    "# Leagues\n",
    "leagues=['MLB', 'MLS', 'NBA', 'NFL', 'NHL']"
   ]
  },
  {
   "cell_type": "code",
   "execution_count": 67,
   "metadata": {},
   "outputs": [],
   "source": [
    "# Example analysis for NFL, from \"General\" data\n",
    "nfl_list=os.listdir(os.path.join(general, \"NFL\"))"
   ]
  },
  {
   "cell_type": "code",
   "execution_count": 68,
   "metadata": {},
   "outputs": [
    {
     "data": {
      "text/plain": [
       "['Arizona_Cardinals_restaurants.json',\n",
       " 'Atlanta_Falcons_restaurants.json',\n",
       " 'Baltimore_Ravens_restaurants.json',\n",
       " 'Buffalo_Bills_restaurants.json',\n",
       " 'Carolina_Panthers_restaurants.json',\n",
       " 'Chicago_Bears_restaurants.json',\n",
       " 'Cincinnati_Bengals_restaurants.json',\n",
       " 'Cleveland_Browns_restaurants.json',\n",
       " 'Dallas_Cowboys_restaurants.json',\n",
       " 'Denver_Broncos_restaurants.json',\n",
       " 'Detroit_Lions_restaurants.json',\n",
       " 'Green_Bay_Packers_restaurants.json',\n",
       " 'Houston_Texans_restaurants.json',\n",
       " 'Indianapolis_Colts_restaurants.json',\n",
       " 'Jacksonville_Jaguars_restaurants.json',\n",
       " 'Kansas_City_Chiefs_restaurants.json',\n",
       " 'Las_Vegas_Raiders_restaurants.json',\n",
       " 'Los_Angeles_Chargers_restaurants.json',\n",
       " 'Los_Angeles_Rams_restaurants.json',\n",
       " 'Miami_Dolphins_restaurants.json',\n",
       " 'Minnesota_Vikings_restaurants.json',\n",
       " 'New_England_Patriots_restaurants.json',\n",
       " 'New_Orleans_Saints_restaurants.json',\n",
       " 'New_York_Giants_restaurants.json',\n",
       " 'New_York_Jets_restaurants.json',\n",
       " 'Philadelphia_Eagles_restaurants.json',\n",
       " 'Pittsburgh_Steelers_restaurants.json',\n",
       " 'San_Francisco_49ers_restaurants.json',\n",
       " 'Seattle_Seahawks_restaurants.json',\n",
       " 'Tampa_Bay_Buccaners_restaurants.json',\n",
       " 'Tennessee_Titans_restaurants.json',\n",
       " 'Washington_Football_Team_restaurants.json']"
      ]
     },
     "execution_count": 68,
     "metadata": {},
     "output_type": "execute_result"
    }
   ],
   "source": [
    "nfl_list"
   ]
  },
  {
   "cell_type": "code",
   "execution_count": 71,
   "metadata": {},
   "outputs": [],
   "source": [
    "# drop teams that play in the same stadium/duplicated cities\n",
    "def remove_duplicated_city(inputList, dupList):\n",
    "    drop_list=[]\n",
    "    lista=inputList.copy()\n",
    "    for v in lista:\n",
    "        for d in dupList:\n",
    "            if fnmatch.fnmatch(v, f'{d}*.json'):\n",
    "                drop_list.append(v)\n",
    "    for t in drop_list[1::2]:\n",
    "        lista.remove(t)\n",
    "    return lista\n",
    "            \n",
    "          "
   ]
  },
  {
   "cell_type": "code",
   "execution_count": 72,
   "metadata": {},
   "outputs": [],
   "source": [
    "new_list=remove_duplicated_city(nfl_list, ['New_York', \"Los_Angeles\"])"
   ]
  },
  {
   "cell_type": "code",
   "execution_count": 73,
   "metadata": {},
   "outputs": [
    {
     "data": {
      "text/plain": [
       "['Arizona_Cardinals_restaurants.json',\n",
       " 'Atlanta_Falcons_restaurants.json',\n",
       " 'Baltimore_Ravens_restaurants.json',\n",
       " 'Buffalo_Bills_restaurants.json',\n",
       " 'Carolina_Panthers_restaurants.json',\n",
       " 'Chicago_Bears_restaurants.json',\n",
       " 'Cincinnati_Bengals_restaurants.json',\n",
       " 'Cleveland_Browns_restaurants.json',\n",
       " 'Dallas_Cowboys_restaurants.json',\n",
       " 'Denver_Broncos_restaurants.json',\n",
       " 'Detroit_Lions_restaurants.json',\n",
       " 'Green_Bay_Packers_restaurants.json',\n",
       " 'Houston_Texans_restaurants.json',\n",
       " 'Indianapolis_Colts_restaurants.json',\n",
       " 'Jacksonville_Jaguars_restaurants.json',\n",
       " 'Kansas_City_Chiefs_restaurants.json',\n",
       " 'Las_Vegas_Raiders_restaurants.json',\n",
       " 'Los_Angeles_Chargers_restaurants.json',\n",
       " 'Miami_Dolphins_restaurants.json',\n",
       " 'Minnesota_Vikings_restaurants.json',\n",
       " 'New_England_Patriots_restaurants.json',\n",
       " 'New_Orleans_Saints_restaurants.json',\n",
       " 'New_York_Giants_restaurants.json',\n",
       " 'Philadelphia_Eagles_restaurants.json',\n",
       " 'Pittsburgh_Steelers_restaurants.json',\n",
       " 'San_Francisco_49ers_restaurants.json',\n",
       " 'Seattle_Seahawks_restaurants.json',\n",
       " 'Tampa_Bay_Buccaners_restaurants.json',\n",
       " 'Tennessee_Titans_restaurants.json',\n",
       " 'Washington_Football_Team_restaurants.json']"
      ]
     },
     "execution_count": 73,
     "metadata": {},
     "output_type": "execute_result"
    }
   ],
   "source": [
    "new_list"
   ]
  },
  {
   "cell_type": "markdown",
   "metadata": {},
   "source": [
    "## Let's have a look to the data in one file"
   ]
  },
  {
   "cell_type": "code",
   "execution_count": 75,
   "metadata": {},
   "outputs": [],
   "source": [
    "test_file=new_list[0]"
   ]
  },
  {
   "cell_type": "code",
   "execution_count": null,
   "metadata": {},
   "outputs": [],
   "source": []
  }
 ],
 "metadata": {
  "kernelspec": {
   "display_name": "Python 3",
   "language": "python",
   "name": "python3"
  },
  "language_info": {
   "codemirror_mode": {
    "name": "ipython",
    "version": 3
   },
   "file_extension": ".py",
   "mimetype": "text/x-python",
   "name": "python",
   "nbconvert_exporter": "python",
   "pygments_lexer": "ipython3",
   "version": "3.6.10"
  }
 },
 "nbformat": 4,
 "nbformat_minor": 4
}
